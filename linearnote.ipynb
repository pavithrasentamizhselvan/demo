{
    "nbformat_minor": 1, 
    "cells": [
        {
            "execution_count": 13, 
            "cell_type": "code", 
            "metadata": {}, 
            "outputs": [
                {
                    "execution_count": 13, 
                    "metadata": {}, 
                    "data": {
                        "text/html": "<div>\n<style scoped>\n    .dataframe tbody tr th:only-of-type {\n        vertical-align: middle;\n    }\n\n    .dataframe tbody tr th {\n        vertical-align: top;\n    }\n\n    .dataframe thead th {\n        text-align: right;\n    }\n</style>\n<table border=\"1\" class=\"dataframe\">\n  <thead>\n    <tr style=\"text-align: right;\">\n      <th></th>\n      <th>X</th>\n      <th>Y</th>\n      <th>year</th>\n    </tr>\n  </thead>\n  <tbody>\n    <tr>\n      <th>0</th>\n      <td>2.9</td>\n      <td>4.0</td>\n      <td>2000</td>\n    </tr>\n    <tr>\n      <th>1</th>\n      <td>6.7</td>\n      <td>7.4</td>\n      <td>2001</td>\n    </tr>\n    <tr>\n      <th>2</th>\n      <td>4.9</td>\n      <td>5.0</td>\n      <td>2002</td>\n    </tr>\n    <tr>\n      <th>3</th>\n      <td>7.9</td>\n      <td>7.2</td>\n      <td>2003</td>\n    </tr>\n    <tr>\n      <th>4</th>\n      <td>9.8</td>\n      <td>7.9</td>\n      <td>2004</td>\n    </tr>\n  </tbody>\n</table>\n</div>", 
                        "text/plain": "     X    Y  year\n0  2.9  4.0  2000\n1  6.7  7.4  2001\n2  4.9  5.0  2002\n3  7.9  7.2  2003\n4  9.8  7.9  2004"
                    }, 
                    "output_type": "execute_result"
                }
            ], 
            "source": "# The code was removed by Watson Studio for sharing."
        }, 
        {
            "execution_count": 26, 
            "cell_type": "code", 
            "metadata": {}, 
            "outputs": [
                {
                    "execution_count": 26, 
                    "metadata": {}, 
                    "data": {
                        "text/plain": "array([ 3.12987832, -4.97972133])"
                    }, 
                    "output_type": "execute_result"
                }
            ], 
            "source": "from sklearn.linear_model import LinearRegression\nreg=LinearRegression()\nreg.fit(df_data_1[['X','Y']],df_data_1.year)\nreg.coef_"
        }, 
        {
            "execution_count": 33, 
            "cell_type": "code", 
            "metadata": {}, 
            "outputs": [
                {
                    "execution_count": 33, 
                    "metadata": {}, 
                    "data": {
                        "text/plain": "array([ 3.12987832, -4.97972133])"
                    }, 
                    "output_type": "execute_result"
                }
            ], 
            "source": "reg.coef_"
        }, 
        {
            "execution_count": 32, 
            "cell_type": "code", 
            "metadata": {}, 
            "outputs": [
                {
                    "execution_count": 32, 
                    "metadata": {}, 
                    "data": {
                        "text/plain": "array([ 1999.09064645])"
                    }, 
                    "output_type": "execute_result"
                }
            ], 
            "source": "reg.intercept_\nreg.predict([[6.5,7.3]])"
        }, 
        {
            "execution_count": 34, 
            "cell_type": "code", 
            "metadata": {}, 
            "outputs": [
                {
                    "execution_count": 34, 
                    "metadata": {}, 
                    "data": {
                        "text/plain": "2015.0984031036407"
                    }, 
                    "output_type": "execute_result"
                }
            ], 
            "source": "reg.intercept_\n"
        }
    ], 
    "metadata": {
        "kernelspec": {
            "display_name": "Python 3.5", 
            "name": "python3", 
            "language": "python"
        }, 
        "language_info": {
            "mimetype": "text/x-python", 
            "nbconvert_exporter": "python", 
            "version": "3.5.5", 
            "name": "python", 
            "file_extension": ".py", 
            "pygments_lexer": "ipython3", 
            "codemirror_mode": {
                "version": 3, 
                "name": "ipython"
            }
        }
    }, 
    "nbformat": 4
}